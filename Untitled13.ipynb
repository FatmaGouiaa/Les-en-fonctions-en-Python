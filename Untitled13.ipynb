{
 "cells": [
  {
   "cell_type": "markdown",
   "id": "9b861195",
   "metadata": {},
   "source": [
    "# Exercices sur les fonctions en Python "
   ]
  },
  {
   "cell_type": "markdown",
   "id": "6bd1cb98",
   "metadata": {},
   "source": [
    "#### Exercices 1: Définissez une fonction maximum qui renvoie le plus grand des 3 nombres n1, n2, n3 fournis en arguments"
   ]
  },
  {
   "cell_type": "code",
   "execution_count": 1,
   "id": "bf908854",
   "metadata": {},
   "outputs": [],
   "source": [
    "def maximum(n1,n2,n3):\n",
    "    if n1<n2:\n",
    "        if n2<n3:\n",
    "            return n3\n",
    "        else:\n",
    "            return n2\n",
    "    else:\n",
    "        if n1<n3:\n",
    "            return n3\n",
    "        else:\n",
    "            return n1"
   ]
  },
  {
   "cell_type": "code",
   "execution_count": 2,
   "id": "e08606d3",
   "metadata": {},
   "outputs": [
    {
     "data": {
      "text/plain": [
       "10"
      ]
     },
     "execution_count": 2,
     "metadata": {},
     "output_type": "execute_result"
    }
   ],
   "source": [
    "maximum(1,10,7)"
   ]
  },
  {
   "cell_type": "markdown",
   "id": "0cf3696e",
   "metadata": {},
   "source": [
    "#### Exercice 2: Écrire une fonction pairimpair qui affiche si son argument est pair ou impair "
   ]
  },
  {
   "cell_type": "code",
   "execution_count": 3,
   "id": "ba009ffa",
   "metadata": {},
   "outputs": [],
   "source": [
    "def pairimpair(a):\n",
    "    if a%2==0:\n",
    "        print(a,'est pair')\n",
    "    else:\n",
    "        print(a,'est impair')"
   ]
  },
  {
   "cell_type": "code",
   "execution_count": 4,
   "id": "e45a6752",
   "metadata": {},
   "outputs": [
    {
     "name": "stdout",
     "output_type": "stream",
     "text": [
      "2 est pair\n"
     ]
    }
   ],
   "source": [
    "pairimpair(2)"
   ]
  },
  {
   "cell_type": "code",
   "execution_count": 5,
   "id": "718d7a3c",
   "metadata": {},
   "outputs": [
    {
     "name": "stdout",
     "output_type": "stream",
     "text": [
      "3 est impair\n"
     ]
    }
   ],
   "source": [
    "pairimpair(3)"
   ]
  },
  {
   "cell_type": "markdown",
   "id": "90b1f0bf",
   "metadata": {},
   "source": [
    "#### Exercice 3: Écrire une fonction moyenne qui retourne la moyenne de son argument"
   ]
  },
  {
   "cell_type": "code",
   "execution_count": 6,
   "id": "6a2eec53",
   "metadata": {},
   "outputs": [],
   "source": [
    "def moyenne (l):\n",
    "    n=len(l)\n",
    "    s=0\n",
    "    i=0\n",
    "    while i<n:\n",
    "        s=s+l[i]\n",
    "        i=i+1\n",
    "    return s/n"
   ]
  },
  {
   "cell_type": "code",
   "execution_count": 7,
   "id": "9bf40fb6",
   "metadata": {},
   "outputs": [
    {
     "data": {
      "text/plain": [
       "6.333333333333333"
      ]
     },
     "execution_count": 7,
     "metadata": {},
     "output_type": "execute_result"
    }
   ],
   "source": [
    "moyenne([10,5,4])"
   ]
  },
  {
   "cell_type": "markdown",
   "id": "bd1ce905",
   "metadata": {},
   "source": [
    "#### Exercice 4: Écrire une fonction pgcd qui calcule pgcd de a et b (a>b)"
   ]
  },
  {
   "cell_type": "code",
   "execution_count": 8,
   "id": "d74aed3c",
   "metadata": {},
   "outputs": [],
   "source": [
    "def pgcd(a,b):\n",
    "    if b==0:\n",
    "        return a\n",
    "    else:\n",
    "        r=a%b\n",
    "        return pgcd(b,r)"
   ]
  },
  {
   "cell_type": "code",
   "execution_count": 9,
   "id": "4ae471fe",
   "metadata": {},
   "outputs": [
    {
     "data": {
      "text/plain": [
       "1"
      ]
     },
     "execution_count": 9,
     "metadata": {},
     "output_type": "execute_result"
    }
   ],
   "source": [
    "pgcd(2,3)"
   ]
  },
  {
   "cell_type": "code",
   "execution_count": 10,
   "id": "f89907ac",
   "metadata": {},
   "outputs": [
    {
     "data": {
      "text/plain": [
       "2"
      ]
     },
     "execution_count": 10,
     "metadata": {},
     "output_type": "execute_result"
    }
   ],
   "source": [
    "pgcd(6,2)"
   ]
  },
  {
   "cell_type": "markdown",
   "id": "e274ed8e",
   "metadata": {},
   "source": [
    "#### Exercice 5: Écrire une fonction ppcm qui calcule ppcm de a et b "
   ]
  },
  {
   "cell_type": "code",
   "execution_count": 11,
   "id": "0f147d10",
   "metadata": {},
   "outputs": [],
   "source": [
    "def ppcm(a,b):\n",
    "    return (a*b)/pgcd(a,b)"
   ]
  },
  {
   "cell_type": "code",
   "execution_count": 12,
   "id": "21508e58",
   "metadata": {},
   "outputs": [
    {
     "data": {
      "text/plain": [
       "6.0"
      ]
     },
     "execution_count": 12,
     "metadata": {},
     "output_type": "execute_result"
    }
   ],
   "source": [
    "ppcm(2,3)"
   ]
  },
  {
   "cell_type": "markdown",
   "id": "6cfba356",
   "metadata": {},
   "source": [
    "#### Exercice 6: Écrire une fonction fact qui retourne le factoriel de son argument"
   ]
  },
  {
   "cell_type": "code",
   "execution_count": 13,
   "id": "2a055480",
   "metadata": {},
   "outputs": [],
   "source": [
    "from math import factorial \n",
    "def fact(n):\n",
    "    return factorial(n)\n"
   ]
  },
  {
   "cell_type": "code",
   "execution_count": 14,
   "id": "129f4e5d",
   "metadata": {},
   "outputs": [
    {
     "data": {
      "text/plain": [
       "6"
      ]
     },
     "execution_count": 14,
     "metadata": {},
     "output_type": "execute_result"
    }
   ],
   "source": [
    "fact(3)"
   ]
  },
  {
   "cell_type": "code",
   "execution_count": 15,
   "id": "5d500d46",
   "metadata": {},
   "outputs": [],
   "source": [
    "def fact(n):\n",
    "    f=1\n",
    "    i=1\n",
    "    while i<n+1:\n",
    "        f=f*i\n",
    "        i=i+1\n",
    "    return f"
   ]
  },
  {
   "cell_type": "code",
   "execution_count": 16,
   "id": "80ae961a",
   "metadata": {},
   "outputs": [
    {
     "data": {
      "text/plain": [
       "6"
      ]
     },
     "execution_count": 16,
     "metadata": {},
     "output_type": "execute_result"
    }
   ],
   "source": [
    "fact(3)"
   ]
  }
 ],
 "metadata": {
  "kernelspec": {
   "display_name": "Python 3 (ipykernel)",
   "language": "python",
   "name": "python3"
  },
  "language_info": {
   "codemirror_mode": {
    "name": "ipython",
    "version": 3
   },
   "file_extension": ".py",
   "mimetype": "text/x-python",
   "name": "python",
   "nbconvert_exporter": "python",
   "pygments_lexer": "ipython3",
   "version": "3.9.12"
  }
 },
 "nbformat": 4,
 "nbformat_minor": 5
}
