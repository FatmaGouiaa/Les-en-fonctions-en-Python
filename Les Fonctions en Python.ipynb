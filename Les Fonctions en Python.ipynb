{
 "cells": [
  {
   "cell_type": "markdown",
   "id": "b9ca1c64",
   "metadata": {},
   "source": [
    "# LES FONCTIONS PYTHON"
   ]
  },
  {
   "cell_type": "markdown",
   "id": "5d2806f2",
   "metadata": {},
   "source": [
    "### Une fonction est une suite d'instructions qu'on peut appeler avec un nom.\n"
   ]
  },
  {
   "cell_type": "code",
   "execution_count": 1,
   "id": "db290f8f",
   "metadata": {},
   "outputs": [],
   "source": [
    "def addition(a,b):\n",
    "    c=a+b\n",
    "    return c"
   ]
  },
  {
   "cell_type": "code",
   "execution_count": 2,
   "id": "9462fbe1",
   "metadata": {},
   "outputs": [],
   "source": [
    "def addition(a,b):\n",
    "    return a+b"
   ]
  },
  {
   "cell_type": "code",
   "execution_count": 3,
   "id": "fb65002c",
   "metadata": {},
   "outputs": [],
   "source": [
    "a=2\n",
    "b=5"
   ]
  },
  {
   "cell_type": "code",
   "execution_count": 4,
   "id": "3981d1d3",
   "metadata": {},
   "outputs": [
    {
     "name": "stdout",
     "output_type": "stream",
     "text": [
      "7\n"
     ]
    }
   ],
   "source": [
    "c=addition(a,b)\n",
    "print(c)"
   ]
  },
  {
   "cell_type": "code",
   "execution_count": 5,
   "id": "411f629b",
   "metadata": {},
   "outputs": [
    {
     "name": "stdout",
     "output_type": "stream",
     "text": [
      "la somme de 2 et 5 est égale à 7\n"
     ]
    }
   ],
   "source": [
    "print('la somme de',a,'et',b,\"est égale à\",c)"
   ]
  },
  {
   "cell_type": "code",
   "execution_count": 6,
   "id": "c7f9b9dd",
   "metadata": {},
   "outputs": [],
   "source": [
    "def compteur3():\n",
    "    i=0\n",
    "    while i<3:\n",
    "        print(i)\n",
    "        i=i+1"
   ]
  },
  {
   "cell_type": "code",
   "execution_count": 7,
   "id": "6b808271",
   "metadata": {},
   "outputs": [
    {
     "name": "stdout",
     "output_type": "stream",
     "text": [
      "0\n",
      "1\n",
      "2\n"
     ]
    }
   ],
   "source": [
    "compteur3()"
   ]
  },
  {
   "cell_type": "code",
   "execution_count": 8,
   "id": "09238889",
   "metadata": {},
   "outputs": [],
   "source": [
    "addition=lambda a,b: a+b"
   ]
  },
  {
   "cell_type": "code",
   "execution_count": 9,
   "id": "cc15807c",
   "metadata": {},
   "outputs": [
    {
     "data": {
      "text/plain": [
       "10"
      ]
     },
     "execution_count": 9,
     "metadata": {},
     "output_type": "execute_result"
    }
   ],
   "source": [
    "addition(5,5)"
   ]
  },
  {
   "cell_type": "code",
   "execution_count": 10,
   "id": "8c83fd36",
   "metadata": {},
   "outputs": [],
   "source": [
    "carre=lambda a: a*a"
   ]
  },
  {
   "cell_type": "code",
   "execution_count": 11,
   "id": "e629961f",
   "metadata": {},
   "outputs": [
    {
     "data": {
      "text/plain": [
       "4"
      ]
     },
     "execution_count": 11,
     "metadata": {},
     "output_type": "execute_result"
    }
   ],
   "source": [
    "carre(2)"
   ]
  },
  {
   "cell_type": "code",
   "execution_count": 12,
   "id": "d5c10255",
   "metadata": {},
   "outputs": [],
   "source": [
    "def somme(n):\n",
    "    i=0\n",
    "    s=0\n",
    "    while i<n+1:\n",
    "        s=s+i\n",
    "        i=i+1\n",
    "    return s"
   ]
  },
  {
   "cell_type": "code",
   "execution_count": 13,
   "id": "9806a63b",
   "metadata": {},
   "outputs": [
    {
     "name": "stdout",
     "output_type": "stream",
     "text": [
      "6\n"
     ]
    }
   ],
   "source": [
    "n=3\n",
    "s=somme(n)\n",
    "print(s)"
   ]
  },
  {
   "cell_type": "markdown",
   "id": "e4d7c209",
   "metadata": {},
   "source": [
    "### Variables locales "
   ]
  },
  {
   "cell_type": "markdown",
   "id": "f2e14c30",
   "metadata": {},
   "source": [
    "#### À chaque fois que nous définissons des variables à l'intérieur du corps d'une fonction, ces variables ne sont accessibles qu'à la fonction elle-même. On dit que ces variables sont des variables locales à la fonction. "
   ]
  },
  {
   "cell_type": "markdown",
   "id": "b71bb0f8",
   "metadata": {},
   "source": [
    "#### Une variable locale peut avoir le même nom qu'une variable de l'espace de noms global mais elle reste néanmoins indépendante. "
   ]
  },
  {
   "cell_type": "code",
   "execution_count": 14,
   "id": "4a164fc6",
   "metadata": {},
   "outputs": [],
   "source": [
    "def compteur(a):\n",
    "    i=0\n",
    "    while i<a:\n",
    "        print(i)\n",
    "        i=i+1"
   ]
  },
  {
   "cell_type": "code",
   "execution_count": 15,
   "id": "04fc06d2",
   "metadata": {},
   "outputs": [
    {
     "name": "stdout",
     "output_type": "stream",
     "text": [
      "0\n",
      "1\n",
      "2\n"
     ]
    }
   ],
   "source": [
    "compteur(3)"
   ]
  },
  {
   "cell_type": "code",
   "execution_count": 16,
   "id": "cf3c92e7",
   "metadata": {},
   "outputs": [
    {
     "ename": "NameError",
     "evalue": "name 'i' is not defined",
     "output_type": "error",
     "traceback": [
      "\u001b[1;31m---------------------------------------------------------------------------\u001b[0m",
      "\u001b[1;31mNameError\u001b[0m                                 Traceback (most recent call last)",
      "Input \u001b[1;32mIn [16]\u001b[0m, in \u001b[0;36m<cell line: 1>\u001b[1;34m()\u001b[0m\n\u001b[1;32m----> 1\u001b[0m \u001b[43mi\u001b[49m\n",
      "\u001b[1;31mNameError\u001b[0m: name 'i' is not defined"
     ]
    }
   ],
   "source": [
    "i"
   ]
  },
  {
   "cell_type": "markdown",
   "id": "0d2780ad",
   "metadata": {},
   "source": [
    "### Variables globales "
   ]
  },
  {
   "cell_type": "markdown",
   "id": "6b5dff57",
   "metadata": {},
   "source": [
    "#### Les variables qui sont définies à l'extérieur de la fonction sont les variables globales , leur contenu est visible de l'intérieur d'une fonction, mais la fonction ne peut pas les modifier. "
   ]
  },
  {
   "cell_type": "code",
   "execution_count": 17,
   "id": "68a79b61",
   "metadata": {},
   "outputs": [],
   "source": [
    "def addition(a,b):\n",
    "    return a+b\n"
   ]
  },
  {
   "cell_type": "code",
   "execution_count": 18,
   "id": "ca40e4fb",
   "metadata": {},
   "outputs": [],
   "source": [
    "a=4\n",
    "b=2"
   ]
  },
  {
   "cell_type": "code",
   "execution_count": 19,
   "id": "fc6448f3",
   "metadata": {},
   "outputs": [
    {
     "data": {
      "text/plain": [
       "6"
      ]
     },
     "execution_count": 19,
     "metadata": {},
     "output_type": "execute_result"
    }
   ],
   "source": [
    "addition (a,b)\n"
   ]
  },
  {
   "cell_type": "code",
   "execution_count": 20,
   "id": "70fc130d",
   "metadata": {},
   "outputs": [],
   "source": [
    "def test():\n",
    "    b=5\n",
    "    print(a,b)"
   ]
  },
  {
   "cell_type": "code",
   "execution_count": 21,
   "id": "c4b36950",
   "metadata": {},
   "outputs": [],
   "source": [
    "a=2\n",
    "b=4"
   ]
  },
  {
   "cell_type": "code",
   "execution_count": 22,
   "id": "e387a8f9",
   "metadata": {},
   "outputs": [
    {
     "name": "stdout",
     "output_type": "stream",
     "text": [
      "2 5\n"
     ]
    }
   ],
   "source": [
    "test()"
   ]
  },
  {
   "cell_type": "code",
   "execution_count": 23,
   "id": "f238e6ad",
   "metadata": {},
   "outputs": [
    {
     "name": "stdout",
     "output_type": "stream",
     "text": [
      "2 4\n"
     ]
    }
   ],
   "source": [
    "print(a,b)"
   ]
  },
  {
   "cell_type": "code",
   "execution_count": 24,
   "id": "a433f769",
   "metadata": {},
   "outputs": [
    {
     "data": {
      "text/plain": [
       "6"
      ]
     },
     "execution_count": 24,
     "metadata": {},
     "output_type": "execute_result"
    }
   ],
   "source": [
    "a+b"
   ]
  },
  {
   "cell_type": "markdown",
   "id": "1b4b32c6",
   "metadata": {},
   "source": [
    "#### Afin de définir une fonction qui soit capable de modifier une variable globale, il vous suffira d'utiliser l'instruction globale. \n",
    "#### Cette instruction permet d'indiquer à l'intérieur de la définition d'une fonction quelles sont les variables à traiter globalement.\n"
   ]
  },
  {
   "cell_type": "code",
   "execution_count": 25,
   "id": "8ac3c97d",
   "metadata": {},
   "outputs": [],
   "source": [
    "def test():\n",
    "    global b\n",
    "    b=5\n",
    "    print(a,b)"
   ]
  },
  {
   "cell_type": "code",
   "execution_count": 26,
   "id": "593f4c72",
   "metadata": {},
   "outputs": [],
   "source": [
    "a=2\n",
    "b=10\n"
   ]
  },
  {
   "cell_type": "code",
   "execution_count": 27,
   "id": "10f567ed",
   "metadata": {},
   "outputs": [
    {
     "name": "stdout",
     "output_type": "stream",
     "text": [
      "2 5\n"
     ]
    }
   ],
   "source": [
    "test()"
   ]
  },
  {
   "cell_type": "code",
   "execution_count": 28,
   "id": "9a84f8a2",
   "metadata": {},
   "outputs": [
    {
     "name": "stdout",
     "output_type": "stream",
     "text": [
      "2 5\n"
     ]
    }
   ],
   "source": [
    "print(a,b)"
   ]
  }
 ],
 "metadata": {
  "kernelspec": {
   "display_name": "Python 3 (ipykernel)",
   "language": "python",
   "name": "python3"
  },
  "language_info": {
   "codemirror_mode": {
    "name": "ipython",
    "version": 3
   },
   "file_extension": ".py",
   "mimetype": "text/x-python",
   "name": "python",
   "nbconvert_exporter": "python",
   "pygments_lexer": "ipython3",
   "version": "3.9.12"
  }
 },
 "nbformat": 4,
 "nbformat_minor": 5
}
